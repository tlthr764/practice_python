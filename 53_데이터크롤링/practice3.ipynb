{
 "cells": [
  {
   "cell_type": "code",
   "execution_count": 24,
   "metadata": {},
   "outputs": [
    {
     "ename": "TypeError",
     "evalue": "object of type 'Response' has no len()",
     "output_type": "error",
     "traceback": [
      "\u001b[1;31m---------------------------------------------------------------------------\u001b[0m",
      "\u001b[1;31mTypeError\u001b[0m                                 Traceback (most recent call last)",
      "\u001b[1;32mc:\\Users\\HP\\Desktop\\python_coding\\53_데이터크롤링\\practice3.ipynb Cell 1\u001b[0m line \u001b[0;36m2\n\u001b[0;32m     <a href='vscode-notebook-cell:/c%3A/Users/HP/Desktop/python_coding/53_%EB%8D%B0%EC%9D%B4%ED%84%B0%ED%81%AC%EB%A1%A4%EB%A7%81/practice3.ipynb#W0sZmlsZQ%3D%3D?line=15'>16</a>\u001b[0m html \u001b[39m=\u001b[39m requests\u001b[39m.\u001b[39mget(\u001b[39mf\u001b[39m\u001b[39m'\u001b[39m\u001b[39mhttps://browse.gmarket.co.kr/search?keyword=\u001b[39m\u001b[39m{\u001b[39;00msearch\u001b[39m}\u001b[39;00m\u001b[39m'\u001b[39m)\n\u001b[0;32m     <a href='vscode-notebook-cell:/c%3A/Users/HP/Desktop/python_coding/53_%EB%8D%B0%EC%9D%B4%ED%84%B0%ED%81%AC%EB%A1%A4%EB%A7%81/practice3.ipynb#W0sZmlsZQ%3D%3D?line=16'>17</a>\u001b[0m \u001b[39m#html = response.text\u001b[39;00m\n\u001b[0;32m     <a href='vscode-notebook-cell:/c%3A/Users/HP/Desktop/python_coding/53_%EB%8D%B0%EC%9D%B4%ED%84%B0%ED%81%AC%EB%A1%A4%EB%A7%81/practice3.ipynb#W0sZmlsZQ%3D%3D?line=17'>18</a>\u001b[0m \n\u001b[0;32m     <a href='vscode-notebook-cell:/c%3A/Users/HP/Desktop/python_coding/53_%EB%8D%B0%EC%9D%B4%ED%84%B0%ED%81%AC%EB%A1%A4%EB%A7%81/practice3.ipynb#W0sZmlsZQ%3D%3D?line=18'>19</a>\u001b[0m \u001b[39m# HTML에서 데이터 추출하기\u001b[39;00m\n\u001b[1;32m---> <a href='vscode-notebook-cell:/c%3A/Users/HP/Desktop/python_coding/53_%EB%8D%B0%EC%9D%B4%ED%84%B0%ED%81%AC%EB%A1%A4%EB%A7%81/practice3.ipynb#W0sZmlsZQ%3D%3D?line=19'>20</a>\u001b[0m soup \u001b[39m=\u001b[39m BeautifulSoup(html, \u001b[39m'\u001b[39m\u001b[39mhtml.parser\u001b[39m\u001b[39m'\u001b[39m)\n\u001b[0;32m     <a href='vscode-notebook-cell:/c%3A/Users/HP/Desktop/python_coding/53_%EB%8D%B0%EC%9D%B4%ED%84%B0%ED%81%AC%EB%A1%A4%EB%A7%81/practice3.ipynb#W0sZmlsZQ%3D%3D?line=20'>21</a>\u001b[0m elements\u001b[39m=\u001b[39m soup\u001b[39m.\u001b[39mselect(\u001b[39m'\u001b[39m\u001b[39m.box__item-title\u001b[39m\u001b[39m'\u001b[39m) \u001b[39m# 상품명과 url 클래스\u001b[39;00m\n\u001b[0;32m     <a href='vscode-notebook-cell:/c%3A/Users/HP/Desktop/python_coding/53_%EB%8D%B0%EC%9D%B4%ED%84%B0%ED%81%AC%EB%A1%A4%EB%A7%81/practice3.ipynb#W0sZmlsZQ%3D%3D?line=21'>22</a>\u001b[0m elements2\u001b[39m=\u001b[39m soup\u001b[39m.\u001b[39mselect(\u001b[39m'\u001b[39m\u001b[39m.box__item-price\u001b[39m\u001b[39m'\u001b[39m) \u001b[39m# 판매가 클래스\u001b[39;00m\n",
      "File \u001b[1;32mc:\\Users\\HP\\anaconda3\\Lib\\site-packages\\bs4\\__init__.py:315\u001b[0m, in \u001b[0;36mBeautifulSoup.__init__\u001b[1;34m(self, markup, features, builder, parse_only, from_encoding, exclude_encodings, element_classes, **kwargs)\u001b[0m\n\u001b[0;32m    313\u001b[0m \u001b[39mif\u001b[39;00m \u001b[39mhasattr\u001b[39m(markup, \u001b[39m'\u001b[39m\u001b[39mread\u001b[39m\u001b[39m'\u001b[39m):        \u001b[39m# It's a file-type object.\u001b[39;00m\n\u001b[0;32m    314\u001b[0m     markup \u001b[39m=\u001b[39m markup\u001b[39m.\u001b[39mread()\n\u001b[1;32m--> 315\u001b[0m \u001b[39melif\u001b[39;00m \u001b[39mlen\u001b[39m(markup) \u001b[39m<\u001b[39m\u001b[39m=\u001b[39m \u001b[39m256\u001b[39m \u001b[39mand\u001b[39;00m (\n\u001b[0;32m    316\u001b[0m         (\u001b[39misinstance\u001b[39m(markup, \u001b[39mbytes\u001b[39m) \u001b[39mand\u001b[39;00m \u001b[39mnot\u001b[39;00m \u001b[39mb\u001b[39m\u001b[39m'\u001b[39m\u001b[39m<\u001b[39m\u001b[39m'\u001b[39m \u001b[39min\u001b[39;00m markup)\n\u001b[0;32m    317\u001b[0m         \u001b[39mor\u001b[39;00m (\u001b[39misinstance\u001b[39m(markup, \u001b[39mstr\u001b[39m) \u001b[39mand\u001b[39;00m \u001b[39mnot\u001b[39;00m \u001b[39m'\u001b[39m\u001b[39m<\u001b[39m\u001b[39m'\u001b[39m \u001b[39min\u001b[39;00m markup)\n\u001b[0;32m    318\u001b[0m ):\n\u001b[0;32m    319\u001b[0m     \u001b[39m# Issue warnings for a couple beginner problems\u001b[39;00m\n\u001b[0;32m    320\u001b[0m     \u001b[39m# involving passing non-markup to Beautiful Soup.\u001b[39;00m\n\u001b[0;32m    321\u001b[0m     \u001b[39m# Beautiful Soup will still parse the input as markup,\u001b[39;00m\n\u001b[0;32m    322\u001b[0m     \u001b[39m# since that is sometimes the intended behavior.\u001b[39;00m\n\u001b[0;32m    323\u001b[0m     \u001b[39mif\u001b[39;00m \u001b[39mnot\u001b[39;00m \u001b[39mself\u001b[39m\u001b[39m.\u001b[39m_markup_is_url(markup):\n\u001b[0;32m    324\u001b[0m         \u001b[39mself\u001b[39m\u001b[39m.\u001b[39m_markup_resembles_filename(markup)                \n",
      "\u001b[1;31mTypeError\u001b[0m: object of type 'Response' has no len()"
     ]
    }
   ],
   "source": [
    "# 실습3 : 데이터 크롤링 실습\n",
    "# G마켓에서 사용자가 검색한 상품의 정보를 엑셀 파일로 저장한다.\n",
    "\n",
    "# requests : HTTP 프로토콜을 이용하여 웹사이트로부터 데이터를 송수신할 수 있는 라이브러리\n",
    "import requests\n",
    "# beautifulsoup : 웹페이지의 HTML,XML 파일에서 데이터를 추출하는 라이브러리\n",
    "# HTML 태그를 검사하고 선택할 수 있다\n",
    "from bs4 import BeautifulSoup\n",
    "# openpyxl : 파이썬에서 엑셀 파일을 쉽게 다루기 위한 오픈소스 라이브러리\n",
    "# 엑셀 파일 형식을 읽고 쓰는 기능을 제공\n",
    "# 파이썬 코드를 사용하여 엑셀 파일의 데이터를 조작할 수 있다\n",
    "from openpyxl import Workbook\n",
    "\n",
    "# 검색어 입력받기 \n",
    "search=input(\"검색어를 입력하세요\")\n",
    "response = requests.get(f'https://browse.gmarket.co.kr/search?keyword={search}')\n",
    "html = response.text\n",
    "\n",
    "# HTML에서 데이터 추출하기\n",
    "soup = BeautifulSoup(html, 'html.parser')\n",
    "elements= soup.select('.box__item-title') # 상품명과 url 클래스\n",
    "elements2= soup.select('.box__item-price') # 판매가 클래스\n",
    "result = [] # 결과 리스트 정의\n",
    "\n",
    "# 태그 선택해서 값을 가져온 뒤 리스트에 삽입\n",
    "for element, element2 in zip(elements, elements2):\n",
    "    # 상품명과 url select\n",
    "    link_element = element.select_one('.link__item')\n",
    "    title_element = link_element.select_one('.text__item')\n",
    "    # 상품명과 url 값\n",
    "    title = title_element.get('title')\n",
    "    href = link_element.get('href')\n",
    "    # 판매가 select\n",
    "    price_element = element2.select_one('.text.text__value')\n",
    "    # 판매가 값\n",
    "    price = price_element.get_text(strip=True) if price_element else None\n",
    "    # 리스트에 삽입\n",
    "    result.append({'title': title, 'price': price, 'href': href})\n",
    "\n",
    "# 엑셀 만들기\n",
    "wb=Workbook()\n",
    "# 워크시트 만들기\n",
    "ws=wb.active\n",
    "# 워크시트 이름\n",
    "ws.title=search \n",
    "# 열 이름 추가하기\n",
    "ws.append(['상품명','판매가','url'])\n",
    "# 리스트 내 데이터를 엑셀에 쓰기\n",
    "for row in result:\n",
    "    ws.append([row['title'],row['price'],row['href']])\n",
    "# 파일 저장하기\n",
    "wb.save(f'{search}.xlsx')"
   ]
  },
  {
   "cell_type": "code",
   "execution_count": null,
   "metadata": {},
   "outputs": [],
   "source": []
  }
 ],
 "metadata": {
  "kernelspec": {
   "display_name": "base",
   "language": "python",
   "name": "python3"
  },
  "language_info": {
   "codemirror_mode": {
    "name": "ipython",
    "version": 3
   },
   "file_extension": ".py",
   "mimetype": "text/x-python",
   "name": "python",
   "nbconvert_exporter": "python",
   "pygments_lexer": "ipython3",
   "version": "3.11.5"
  }
 },
 "nbformat": 4,
 "nbformat_minor": 2
}
