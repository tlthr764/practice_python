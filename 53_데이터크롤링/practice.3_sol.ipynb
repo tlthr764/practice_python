{
 "cells": [
  {
   "cell_type": "code",
   "execution_count": null,
   "metadata": {},
   "outputs": [],
   "source": [
    "# 라이브러리 설치\n",
    "import requests\n",
    "\n",
    "!pip install bs4\n",
    "from bs4 import BeautifulSoup\n",
    "\n",
    "!pip install openpyxl\n",
    "import openpyxl\n",
    "\n",
    "# 엑셀 만들기\n",
    "wb = openpyxl.Workbook()\n",
    "\n",
    "# 워크시트 만들기\n",
    "ws = wb.active\n",
    "ws.title = 'products'\n",
    "\n",
    "# 데이터 추가하기\n",
    "ws.append(['상품명', '판매가', 'url'])\n",
    "\n",
    "# 엑셀 저장하기\n",
    "wb.save('./gmarket.xlsx')\n",
    "\n",
    "word = input()\n",
    "\n",
    "wb = openpyxl.load_workbook('./gmarket.xlsx')\n",
    "ws = wb.active\n",
    "\n",
    "for page in range(1, 3):\n",
    "  print(f\"--------------------{page}페이지------------------------\")\n",
    "  response = requests.get(f\"https://browse.gmarket.co.kr/search?keyword={word}&p={page}\")\n",
    "  html = response.text\n",
    "  soup = BeautifulSoup(html, 'html.parser')\n",
    "\n",
    "  products = soup.select('.box__information-major')\n",
    "  for product in products:\n",
    "    title_tag = product.select_one('.box__item-title')\n",
    "    title = title_tag.select_one('.text__item')['title']\n",
    "    print(title)\n",
    "\n",
    "    link = product.select_one('.link__item')['href']\n",
    "    print(link)\n",
    "\n",
    "    price = product.select_one('strong').text\n",
    "    print(price)\n",
    "\n",
    "    ws.append([title, price, link])\n",
    "\n",
    "wb.save('./gmarket.xlsx')"
   ]
  }
 ],
 "metadata": {
  "language_info": {
   "name": "python"
  }
 },
 "nbformat": 4,
 "nbformat_minor": 2
}
