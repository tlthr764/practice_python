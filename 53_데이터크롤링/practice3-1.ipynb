{
 "cells": [
  {
   "cell_type": "code",
   "execution_count": 13,
   "metadata": {},
   "outputs": [],
   "source": [
    "# 실습3 : 데이터 크롤링 실습\n",
    "# G마켓에서 사용자가 검색한 상품의 정보를 엑셀 파일로 저장한다.\n",
    "\n",
    "# requests : HTTP 프로토콜을 이용하여 웹사이트로부터 데이터를 송수신할 수 있는 라이브러리\n",
    "import requests\n",
    "# beautifulsoup : 웹페이지의 HTML,XML 파일에서 데이터를 추출하는 라이브러리\n",
    "# HTML 태그를 검사하고 선택할 수 있다\n",
    "from bs4 import BeautifulSoup\n",
    "# openpyxl : 파이썬에서 엑셀 파일을 쉽게 다루기 위한 오픈소스 라이브러리\n",
    "# 엑셀 파일 형식을 읽고 쓰는 기능을 제공\n",
    "# 파이썬 코드를 사용하여 엑셀 파일의 데이터를 조작할 수 있다\n",
    "from openpyxl import Workbook\n",
    "\n",
    "product=input(\"검색어를 입력하세요. \")\n",
    "page=int(input(\"페이지를 입력하세요. \"))\n",
    "html=requests.get(f\"https://browse.gmarket.co.kr/search?keyword={product}&p={page}\")\n",
    "\n",
    "soup=BeautifulSoup(html.text,'html.parser')\n",
    "product_class = soup.select('.box__information-major')\n",
    "\n",
    "# 엑셀 만들기\n",
    "wb=Workbook()\n",
    "# 워크시트 만들기\n",
    "ws=wb.active\n",
    "# 워크시트 이름\n",
    "ws.title=product \n",
    "# 열 이름 추가하기\n",
    "ws.append(['상품명','판매가','url'])\n",
    "\n",
    "for product in product_class:\n",
    "  title_tag = product.select_one('.box__item-title')\n",
    "  title = title_tag.select_one('.text__item')['title']\n",
    "  url = product.select_one('.link__item')['href']\n",
    "  price = product.select_one('strong').text\n",
    "  \n",
    "  ws.append([title,url,price])\n",
    "\n",
    "# 파일 저장하기\n",
    "wb.save(f'gmarket.xlsx')\n",
    "\n",
    "\n"
   ]
  }
 ],
 "metadata": {
  "kernelspec": {
   "display_name": "base",
   "language": "python",
   "name": "python3"
  },
  "language_info": {
   "codemirror_mode": {
    "name": "ipython",
    "version": 3
   },
   "file_extension": ".py",
   "mimetype": "text/x-python",
   "name": "python",
   "nbconvert_exporter": "python",
   "pygments_lexer": "ipython3",
   "version": "3.11.5"
  }
 },
 "nbformat": 4,
 "nbformat_minor": 2
}
