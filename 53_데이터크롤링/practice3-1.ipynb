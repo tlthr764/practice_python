{
 "cells": [
  {
   "cell_type": "code",
   "execution_count": 1,
   "metadata": {},
   "outputs": [
    {
     "ename": "TypeError",
     "evalue": "object of type 'Response' has no len()",
     "output_type": "error",
     "traceback": [
      "\u001b[1;31m---------------------------------------------------------------------------\u001b[0m",
      "\u001b[1;31mTypeError\u001b[0m                                 Traceback (most recent call last)",
      "\u001b[1;32mc:\\Users\\HP\\Desktop\\python_coding\\53_데이터크롤링\\practice3-1.ipynb Cell 1\u001b[0m line \u001b[0;36m1\n\u001b[0;32m     <a href='vscode-notebook-cell:/c%3A/Users/HP/Desktop/python_coding/53_%EB%8D%B0%EC%9D%B4%ED%84%B0%ED%81%AC%EB%A1%A4%EB%A7%81/practice3-1.ipynb#W0sZmlsZQ%3D%3D?line=15'>16</a>\u001b[0m html\u001b[39m=\u001b[39mrequests\u001b[39m.\u001b[39mget(\u001b[39mf\u001b[39m\u001b[39m\"\u001b[39m\u001b[39mhttps://browse.gmarket.co.kr/search?keyword=\u001b[39m\u001b[39m{\u001b[39;00mproduct\u001b[39m}\u001b[39;00m\u001b[39m&p=\u001b[39m\u001b[39m{\u001b[39;00mpage\u001b[39m}\u001b[39;00m\u001b[39m\"\u001b[39m)\n\u001b[0;32m     <a href='vscode-notebook-cell:/c%3A/Users/HP/Desktop/python_coding/53_%EB%8D%B0%EC%9D%B4%ED%84%B0%ED%81%AC%EB%A1%A4%EB%A7%81/practice3-1.ipynb#W0sZmlsZQ%3D%3D?line=16'>17</a>\u001b[0m \u001b[39m#html = response.text\u001b[39;00m\n\u001b[1;32m---> <a href='vscode-notebook-cell:/c%3A/Users/HP/Desktop/python_coding/53_%EB%8D%B0%EC%9D%B4%ED%84%B0%ED%81%AC%EB%A1%A4%EB%A7%81/practice3-1.ipynb#W0sZmlsZQ%3D%3D?line=18'>19</a>\u001b[0m soup\u001b[39m=\u001b[39mBeautifulSoup(html,\u001b[39m'\u001b[39m\u001b[39mhtml.parser\u001b[39m\u001b[39m'\u001b[39m)\n",
      "File \u001b[1;32mc:\\Users\\HP\\anaconda3\\Lib\\site-packages\\bs4\\__init__.py:315\u001b[0m, in \u001b[0;36mBeautifulSoup.__init__\u001b[1;34m(self, markup, features, builder, parse_only, from_encoding, exclude_encodings, element_classes, **kwargs)\u001b[0m\n\u001b[0;32m    313\u001b[0m \u001b[39mif\u001b[39;00m \u001b[39mhasattr\u001b[39m(markup, \u001b[39m'\u001b[39m\u001b[39mread\u001b[39m\u001b[39m'\u001b[39m):        \u001b[39m# It's a file-type object.\u001b[39;00m\n\u001b[0;32m    314\u001b[0m     markup \u001b[39m=\u001b[39m markup\u001b[39m.\u001b[39mread()\n\u001b[1;32m--> 315\u001b[0m \u001b[39melif\u001b[39;00m \u001b[39mlen\u001b[39m(markup) \u001b[39m<\u001b[39m\u001b[39m=\u001b[39m \u001b[39m256\u001b[39m \u001b[39mand\u001b[39;00m (\n\u001b[0;32m    316\u001b[0m         (\u001b[39misinstance\u001b[39m(markup, \u001b[39mbytes\u001b[39m) \u001b[39mand\u001b[39;00m \u001b[39mnot\u001b[39;00m \u001b[39mb\u001b[39m\u001b[39m'\u001b[39m\u001b[39m<\u001b[39m\u001b[39m'\u001b[39m \u001b[39min\u001b[39;00m markup)\n\u001b[0;32m    317\u001b[0m         \u001b[39mor\u001b[39;00m (\u001b[39misinstance\u001b[39m(markup, \u001b[39mstr\u001b[39m) \u001b[39mand\u001b[39;00m \u001b[39mnot\u001b[39;00m \u001b[39m'\u001b[39m\u001b[39m<\u001b[39m\u001b[39m'\u001b[39m \u001b[39min\u001b[39;00m markup)\n\u001b[0;32m    318\u001b[0m ):\n\u001b[0;32m    319\u001b[0m     \u001b[39m# Issue warnings for a couple beginner problems\u001b[39;00m\n\u001b[0;32m    320\u001b[0m     \u001b[39m# involving passing non-markup to Beautiful Soup.\u001b[39;00m\n\u001b[0;32m    321\u001b[0m     \u001b[39m# Beautiful Soup will still parse the input as markup,\u001b[39;00m\n\u001b[0;32m    322\u001b[0m     \u001b[39m# since that is sometimes the intended behavior.\u001b[39;00m\n\u001b[0;32m    323\u001b[0m     \u001b[39mif\u001b[39;00m \u001b[39mnot\u001b[39;00m \u001b[39mself\u001b[39m\u001b[39m.\u001b[39m_markup_is_url(markup):\n\u001b[0;32m    324\u001b[0m         \u001b[39mself\u001b[39m\u001b[39m.\u001b[39m_markup_resembles_filename(markup)                \n",
      "\u001b[1;31mTypeError\u001b[0m: object of type 'Response' has no len()"
     ]
    }
   ],
   "source": [
    "# 실습3 : 데이터 크롤링 실습\n",
    "# G마켓에서 사용자가 검색한 상품의 정보를 엑셀 파일로 저장한다.\n",
    "\n",
    "# requests : HTTP 프로토콜을 이용하여 웹사이트로부터 데이터를 송수신할 수 있는 라이브러리\n",
    "import requests\n",
    "# beautifulsoup : 웹페이지의 HTML,XML 파일에서 데이터를 추출하는 라이브러리\n",
    "# HTML 태그를 검사하고 선택할 수 있다\n",
    "from bs4 import BeautifulSoup\n",
    "# openpyxl : 파이썬에서 엑셀 파일을 쉽게 다루기 위한 오픈소스 라이브러리\n",
    "# 엑셀 파일 형식을 읽고 쓰는 기능을 제공\n",
    "# 파이썬 코드를 사용하여 엑셀 파일의 데이터를 조작할 수 있다\n",
    "from openpyxl import Workbook\n",
    "\n",
    "product=input(\"검색어를 입력하세요. \")\n",
    "page=int(input(\"페이지를 입력하세요. \"))\n",
    "response=requests.get(f\"https://browse.gmarket.co.kr/search?keyword={product}&p={page}\")\n",
    "html = response.text\n",
    "\n",
    "soup=BeautifulSoup(html,'html.parser')\n",
    "product_class = soup.select('.box__information-major')\n",
    "\n",
    "for element in product_class:\n",
    "  title_class = element.select_one('.text__item')\n",
    "  price_class = element.select_one('.strong.text.text__value')\n",
    "  url_class = element.select_one('.link__item')\n",
    "\n",
    "  title = title_class.get('title')\n",
    "  price = price_class.get_text\n",
    "  url = url_class.get('href')\n",
    "\n"
   ]
  }
 ],
 "metadata": {
  "kernelspec": {
   "display_name": "base",
   "language": "python",
   "name": "python3"
  },
  "language_info": {
   "codemirror_mode": {
    "name": "ipython",
    "version": 3
   },
   "file_extension": ".py",
   "mimetype": "text/x-python",
   "name": "python",
   "nbconvert_exporter": "python",
   "pygments_lexer": "ipython3",
   "version": "3.11.5"
  }
 },
 "nbformat": 4,
 "nbformat_minor": 2
}
